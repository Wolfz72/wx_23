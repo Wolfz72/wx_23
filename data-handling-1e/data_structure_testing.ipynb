{
 "cells": [
  {
   "cell_type": "markdown",
   "id": "564f1aa9",
   "metadata": {},
   "source": [
    "# Data structure testing"
   ]
  },
  {
   "cell_type": "markdown",
   "id": "831ac1b8",
   "metadata": {},
   "source": [
    "## Authors:\n",
    " - Nathaniel Patterson"
   ]
  },
  {
   "cell_type": "markdown",
   "id": "8f605557",
   "metadata": {},
   "source": [
    "### Data Types\n",
    "- [ ]  Arrays\n",
    "- [ ] Records\n",
    "- [ ] Dictionaries"
   ]
  },
  {
   "cell_type": "markdown",
   "id": "ea256e6e",
   "metadata": {},
   "source": [
    "Below is the code to import the different stuff"
   ]
  },
  {
   "cell_type": "code",
   "execution_count": null,
   "id": "3832faea",
   "metadata": {},
   "outputs": [],
   "source": [
    "#import stuff\n",
    "import time\n",
    "import pandas as pd\n",
    "import os\n",
    "import glob\n",
    "import string\n",
    "import time\n",
    "import matplotlib.pyplot as plt\n",
    "import numpy as np\n",
    "import os.path\n",
    "import os.path\n",
    "import random"
   ]
  },
  {
   "cell_type": "markdown",
   "id": "fb3e550b",
   "metadata": {},
   "source": [
    "## Read/Write speed tester:"
   ]
  },
  {
   "cell_type": "code",
   "execution_count": null,
   "id": "e3490c17",
   "metadata": {},
   "outputs": [],
   "source": [
    "import time\n",
    "import glob\n",
    "\n",
    "import time\n",
    "import pandas as pd\n",
    "import os\n",
    "import glob\n",
    "import string\n",
    "import time\n",
    "import matplotlib.pyplot as plt\n",
    "import numpy as np\n",
    "import os.path\n",
    "import os.path\n",
    "import random\n",
    "x = random.randint(1,1000)\n",
    "\n",
    "files = glob.glob(\"BLM_R5IM_Data/cycle\" + '/*.csv')\n",
    "\n",
    "\n",
    "\n",
    "#code to open file goes here\n",
    "start_time = time.time()\n",
    "\n",
    "#read speed test goes here\n",
    "datalist = []\n",
    "for x in range(len(files)):\n",
    "    input_data = pd.read_csv(files[x])\n",
    "    dataframe = input_data.drop(columns = input_data.columns[0]).to_numpy()\n",
    "    print(dataframe)\n",
    "    datalist.append(dataframe)\n",
    "\n",
    "end_time = time.time()\n",
    "total_time = (round(end_time - start_time, 11))\n",
    "readtime = total_time\n",
    "\n",
    "start_time = time.time()\n",
    "   \n",
    "#Write speed test goes here\n",
    "save_path = 'C:\\\\Users\\\\jde35739\\\\Desktop\\\\testdata'\n",
    "name_of_file = (\"datafile\"+str(x))\n",
    "\n",
    "completeName = os.path.join(save_path, name_of_file+\".txt\")         \n",
    "file1 = open(completeName, \"w\")\n",
    "toFile = str(datalist)\n",
    "print(datalist)\n",
    "file1.write(toFile)\n",
    "file1.close()\n",
    "\n",
    "\n",
    "end_time = time.time()\n",
    "total_time = (round(end_time - start_time, 11))\n",
    "print('Results:')\n",
    "print()\n",
    "print('Read Time:',readtime)\n",
    "print('Write Time:',total_time)\n"
   ]
  },
  {
   "cell_type": "markdown",
   "id": "ada6e3f1",
   "metadata": {},
   "source": [
    "Below is the example code given to us from the example"
   ]
  },
  {
   "cell_type": "code",
   "execution_count": null,
   "id": "07f9154d",
   "metadata": {},
   "outputs": [],
   "source": [
    "#Example Code from example\n",
    "'''\n",
    "import glob\n",
    "import pandas as pd\n",
    "#import random\n",
    "#import paho.mqtt.client as mqtt\n",
    "import string\n",
    "import time\n",
    "import matplotlib.pyplot as plt\n",
    "import numpy as np\n",
    "\n",
    "files = glob.glob(\"BLM_R5IM_Data/cycle\" + '/*.csv')\n",
    "for file in files:\n",
    "    print(file)\n",
    "\n",
    "selected_file = files[0]\n",
    "input_data = pd.read_csv(selected_file)\n",
    "dataframe = input_data.drop(columns = input_data.columns[0]).to_numpy()\n",
    "x_data = np.linspace(-0.5, 10.5, 2200)\n",
    "\n",
    "plt.scatter(x_data, dataframe[39]);\n",
    "plt.title('R5IM');\n",
    "plt.xlabel('Time [ms]');\n",
    "plt.ylabel('Signal [V]');\n",
    "plt.grid()\n",
    "'''\n",
    "\n",
    "'''\n",
    "plt.scatter(x_data, dataframe[38]);\n",
    "plt.title('R9BLM4');\n",
    "plt.xlabel('Time [ms]');\n",
    "plt.ylabel('Signal [V]');\n",
    "plt.grid()\n",
    "\n",
    "plt.scatter(x_data, dataframe[38]);\n",
    "plt.title('R9BLM4');\n",
    "plt.xlabel('Time [ms]');\n",
    "plt.ylabel('Signal [V]');\n",
    "plt.grid()\n",
    "\n",
    "'''\n",
    "'''\n",
    "files = glob.glob(\"BLM_R5IM_Data/R5IM_loss\" + '/*.csv')\n",
    "selected_file = files[0]\n",
    "input_data = pd.read_csv(selected_file)\n",
    "dataframe = input_data.drop(columns = input_data.columns[0]).to_numpy()\n",
    "plt.scatter(x_data, dataframe[39]);\n",
    "plt.title('R5IM');\n",
    "plt.xlabel('Time [ms]');\n",
    "plt.ylabel('Signal [V]');\n",
    "plt.grid()\n",
    "'''"
   ]
  },
  {
   "cell_type": "markdown",
   "id": "3877e64c",
   "metadata": {},
   "source": [
    "Here is a testing area for some code"
   ]
  },
  {
   "cell_type": "code",
   "execution_count": null,
   "id": "53154e7b",
   "metadata": {},
   "outputs": [],
   "source": [
    "\n",
    "\n",
    "#datafile = pd.read_csv('mydata.csv')\n",
    "import time\n",
    "files = glob.glob(\"BLM_R5IM_Data/cycle\" + '/*.csv')\n",
    "print(files[0])\n",
    "\n",
    "\n",
    "\n",
    "for x in range(len(files)):\n",
    "    input_data = pd.read_csv(files[x])\n",
    "    dataframe = input_data.drop(columns = input_data.columns[0]).to_numpy()\n",
    "    print(dataframe)\n",
    "\n",
    "    \n",
    "    \n",
    "\n",
    "'''\n",
    "import csv\n",
    "import numpy\n",
    "result_list = list(files[0])\n",
    "print(result_list)\n",
    "result_2D = numpy.array(result_list)\n",
    "\n",
    "print(result_2D)\n",
    "'''"
   ]
  },
  {
   "cell_type": "markdown",
   "id": "4c57faf3",
   "metadata": {},
   "source": [
    "To test the speed of the read and write of different data strucutres, here is simple code for a timer"
   ]
  },
  {
   "cell_type": "code",
   "execution_count": null,
   "id": "be1ce9b1",
   "metadata": {},
   "outputs": [],
   "source": [
    "start_time = time.time()\n",
    "end_time = time.time()\n",
    "total_time = (round(end_time - start_time, 4))\n",
    "print('Time:',total_time)"
   ]
  },
  {
   "cell_type": "markdown",
   "id": "47f244ba",
   "metadata": {},
   "source": [
    "Now, to adapt this timer to test read and write speed:"
   ]
  },
  {
   "cell_type": "code",
   "execution_count": null,
   "id": "c4bffab6",
   "metadata": {},
   "outputs": [],
   "source": [
    "#time stalling code to test timer\n",
    "for x in range(1,1000000):\n",
    "    y = x**2"
   ]
  },
  {
   "cell_type": "code",
   "execution_count": null,
   "id": "1fd68a95",
   "metadata": {},
   "outputs": [],
   "source": [
    "import time\n",
    "import glob\n",
    "\n",
    "#code to open file goes here\n",
    "#read speed test\n",
    "start_time = time.time()\n",
    "\n",
    "#read speed test\n",
    "\n",
    "end_time = time.time()\n",
    "total_time = (round(end_time - start_time, 11))\n",
    "print('Read Time:',total_time)\n",
    "\n",
    "#write speed test\n",
    "start_time = time.time()\n",
    "    \n",
    "end_time = time.time()\n",
    "total_time = (round(end_time - start_time, 11))\n",
    "print('Write Time:',total_time)\n",
    "\n",
    "#yay it works"
   ]
  },
  {
   "cell_type": "markdown",
   "id": "815c5c11",
   "metadata": {},
   "source": [
    "Now to do a similar thing to earlier using os instead of panda to see whether this is faster. Does not work at the moment\n"
   ]
  },
  {
   "cell_type": "code",
   "execution_count": null,
   "id": "7240238b",
   "metadata": {},
   "outputs": [],
   "source": [
    "import os\n",
    "path = \"C:\\Users\\jde35739\\Desktop\\data-handling-1e\\BLM_R5IM_Data\"\n",
    "dir_list = os.listdir(path)\n",
    "  \n",
    "print(\"Files and directories in '\", path, \"' :\") \n",
    "  \n",
    "# print the list\n",
    "print(dir_list)"
   ]
  },
  {
   "cell_type": "markdown",
   "id": "3b9da753",
   "metadata": {},
   "source": [
    "Here I want to remake the code using regular python file code"
   ]
  },
  {
   "cell_type": "code",
   "execution_count": null,
   "id": "7ef33cf7",
   "metadata": {},
   "outputs": [],
   "source": []
  },
  {
   "cell_type": "markdown",
   "id": "d3c104fd",
   "metadata": {},
   "source": [
    "Working on code to write files"
   ]
  },
  {
   "cell_type": "code",
   "execution_count": null,
   "id": "980d50f1",
   "metadata": {},
   "outputs": [],
   "source": [
    "import time\n",
    "import pandas as pd\n",
    "import os\n",
    "import glob\n",
    "import string\n",
    "import time\n",
    "import matplotlib.pyplot as plt\n",
    "import numpy as np\n",
    "import os.path\n",
    "import os.path\n",
    "import random\n",
    "x = random.randint(1,1000)\n",
    "\n",
    "files = glob.glob(\"BLM_R5IM_Data/cycle\" + '/*.csv')\n",
    "print(files[0])\n",
    "\n",
    "\n",
    "datalist = []\n",
    "for x in range(len(files)):\n",
    "    input_data = pd.read_csv(files[x])\n",
    "    dataframe = input_data.drop(columns = input_data.columns[0]).to_numpy()\n",
    "    print(dataframe)\n",
    "    datalist.append(dataframe)\n",
    "\n",
    "#replace the save path with the save path you want\n",
    "save_path = 'C:\\\\Users\\\\jde35739\\\\Desktop\\\\testdata'\n",
    "name_of_file = (\"datafile\"+str(x))\n",
    "\n",
    "completeName = os.path.join(save_path, name_of_file+\".csv\")         \n",
    "file1 = open(completeName, \"w\")\n",
    "toFile = str(datalist)\n",
    "print(datalist)\n",
    "file1.write(toFile)\n",
    "file1.close()"
   ]
  },
  {
   "cell_type": "markdown",
   "id": "ffb90053",
   "metadata": {},
   "source": [
    "\n",
    "\n"
   ]
  },
  {
   "cell_type": "code",
   "execution_count": null,
   "id": "dd69e75d",
   "metadata": {},
   "outputs": [],
   "source": []
  },
  {
   "cell_type": "markdown",
   "id": "01412239",
   "metadata": {},
   "source": [
    "Tom's Code with pyarrow:"
   ]
  },
  {
   "cell_type": "code",
   "execution_count": null,
   "id": "089fa922",
   "metadata": {},
   "outputs": [],
   "source": [
    "import glob\n",
    "import pandas as pd\n",
    "import csv\n",
    "import time\n",
    "\n",
    "start_time = time.time() \n",
    "for x in range(0,10):\n",
    "    files = glob.glob(\"BLM_R5IM_Data/cycle\" + '/*.csv')\n",
    "    selected_file = files[0]\n",
    "    input_data = pd.read_csv(selected_file)\n",
    "    dataframe = input_data.drop(columns = input_data.columns[0]).to_numpy()\n",
    " \n",
    "end_time = time.time()\n",
    "total_time = (round(end_time - start_time, 11))\n",
    "readtime = total_time\n",
    "print(\"Writetime \",readtime)\n",
    "start_time = time.time()\n",
    "\n",
    "#print(dataframe)\n",
    "\n",
    "for x in range(1,400):\n",
    "    f = open(\"C:\\\\Users\\\\jde35739\\\\Documents\\\\testdatafolder\\\\cnewone.txt\", \"w\")\n",
    "    writer = csv.writer(f)\n",
    "    writer.writerows(dataframe)\n",
    "    f.close()\n",
    "\n",
    "print(dataframe[0])\n",
    "\n",
    "\n",
    "end_time = time.time()\n",
    "total_time = (round(end_time - start_time, 11))\n",
    "readtime = total_time\n",
    "print(\"File time \",readtime)\n",
    "finaltime = readtime + total_time\n",
    "print(\"Total time \",finaltime)\n",
    "\n",
    "\n",
    "'''\n",
    "f = open(\"C:\\\\Users\\\\jde35739\\\\Documents\\\\testdatafolder\\\\cnewone.txt\", \"r\")\n",
    "reader = csv.reader(f)\n",
    "i = 0\n",
    "for line in reader:\n",
    "    voltage = (line)\n",
    "    #voltage = (line)\n",
    "    dataframe[i] = voltage\n",
    "    i += 1;\n",
    "f.close()\n",
    "\n",
    "print(dataframe)\n",
    "'''"
   ]
  },
  {
   "cell_type": "markdown",
   "id": "9b03679d",
   "metadata": {},
   "source": [
    "now with csv"
   ]
  },
  {
   "cell_type": "code",
   "execution_count": null,
   "id": "67552575",
   "metadata": {},
   "outputs": [],
   "source": [
    "import glob\n",
    "import pandas as pd\n",
    "import csv\n",
    "import time\n",
    "\n",
    "start_time = time.time() \n",
    "for x in range(0,10):\n",
    "    files = glob.glob(\"BLM_R5IM_Data/cycle\" + '/*.csv')\n",
    "    selected_file = files[0]\n",
    "    input_data = pd.read_csv(selected_file)\n",
    "    dataframe = input_data.drop(columns = input_data.columns[0]).to_numpy()\n",
    " \n",
    "end_time = time.time()\n",
    "total_time = (round(end_time - start_time, 11))\n",
    "readtime = total_time\n",
    "print(\"Writetime \",readtime)\n",
    "start_time = time.time()\n",
    "\n",
    "#print(dataframe)\n",
    "\n",
    "for x in range(1,400):\n",
    "    f = open(\"C:\\\\Users\\\\jde35739\\\\Documents\\\\testdatafolder\\\\cnewone.csv\", \"w\")\n",
    "    writer = csv.writer(f)\n",
    "    writer.writerows(dataframe)\n",
    "    f.close()\n",
    "\n",
    "print(dataframe[0])\n",
    "\n",
    "\n",
    "end_time = time.time()\n",
    "total_time = (round(end_time - start_time, 11))\n",
    "readtime = total_time\n",
    "print(\"File time \",readtime)\n",
    "finaltime = readtime + total_time\n",
    "print(\"Total time \",finaltime)\n",
    "\n",
    "\n",
    "'''\n",
    "f = open(\"C:\\\\Users\\\\jde35739\\\\Documents\\\\testdatafolder\\\\cnewone.csv\", \"r\")\n",
    "reader = csv.reader(f)\n",
    "i = 0\n",
    "for line in reader:\n",
    "    voltage = (line)\n",
    "    #voltage = (line)\n",
    "    dataframe[i] = voltage\n",
    "    i += 1;\n",
    "f.close()\n",
    "\n",
    "print(dataframe)\n",
    "'''"
   ]
  },
  {
   "cell_type": "markdown",
   "id": "4daf43af",
   "metadata": {},
   "source": [
    "Now tested again without pyarrow"
   ]
  },
  {
   "cell_type": "code",
   "execution_count": 1,
   "id": "84e2816e",
   "metadata": {},
   "outputs": [
    {
     "ename": "NameError",
     "evalue": "name 'pyarrow' is not defined",
     "output_type": "error",
     "traceback": [
      "\u001b[1;31m---------------------------------------------------------------------------\u001b[0m",
      "\u001b[1;31mNameError\u001b[0m                                 Traceback (most recent call last)",
      "Cell \u001b[1;32mIn[1], line 13\u001b[0m\n\u001b[0;32m     11\u001b[0m     files \u001b[38;5;241m=\u001b[39m glob\u001b[38;5;241m.\u001b[39mglob(\u001b[38;5;124m\"\u001b[39m\u001b[38;5;124mBLM_R5IM_Data/cycle\u001b[39m\u001b[38;5;124m\"\u001b[39m \u001b[38;5;241m+\u001b[39m \u001b[38;5;124m'\u001b[39m\u001b[38;5;124m/*.csv\u001b[39m\u001b[38;5;124m'\u001b[39m)\n\u001b[0;32m     12\u001b[0m     selected_file \u001b[38;5;241m=\u001b[39m files[\u001b[38;5;241m0\u001b[39m]\n\u001b[1;32m---> 13\u001b[0m     input_data \u001b[38;5;241m=\u001b[39m \u001b[43mpyarrow\u001b[49m\u001b[38;5;241m.\u001b[39mcsv\u001b[38;5;241m.\u001b[39mread_csv(selected_file)\n\u001b[0;32m     14\u001b[0m     dataframe \u001b[38;5;241m=\u001b[39m input_data\u001b[38;5;241m.\u001b[39mdrop(columns \u001b[38;5;241m=\u001b[39m input_data\u001b[38;5;241m.\u001b[39mcolumns[\u001b[38;5;241m0\u001b[39m])\u001b[38;5;241m.\u001b[39mto_numpy()\n\u001b[0;32m     16\u001b[0m end_time \u001b[38;5;241m=\u001b[39m time\u001b[38;5;241m.\u001b[39mtime()\n",
      "\u001b[1;31mNameError\u001b[0m: name 'pyarrow' is not defined"
     ]
    }
   ],
   "source": [
    "import glob\n",
    "import pandas as pd\n",
    "import csv\n",
    "import time\n",
    "import pyarrow as pa\n",
    "from pyarrow import csv\n",
    "\n",
    "\n",
    "start_time = time.time() \n",
    "for x in range(0,10):\n",
    "    files = glob.glob(\"BLM_R5IM_Data/cycle\" + '/*.csv')\n",
    "    selected_file = files[0]\n",
    "    input_data = pyarrow.csv.read_csv(selected_file)\n",
    "    dataframe = input_data.drop(columns = input_data.columns[0]).to_numpy()\n",
    " \n",
    "end_time = time.time()\n",
    "total_time = (round(end_time - start_time, 11))\n",
    "readtime = total_time\n",
    "print(\"Writetime \",readtime)\n",
    "start_time = time.time()\n",
    "\n",
    "#print(dataframe)\n",
    "\n",
    "for x in range(0,10):\n",
    "    f = open(\"C:\\\\Users\\\\jde35739\\\\Documents\\\\testdatafolder\\\\csvBLM.csv\", \"w\")\n",
    "    writer = csv.writer(f)\n",
    "    writer.writerows(dataframe)\n",
    "    f.close()\n",
    "\n",
    "print(dataframe[0])\n",
    "\n",
    "end_time = time.time()\n",
    "total_time = (round(end_time - start_time, 11))\n",
    "readtime = total_time\n",
    "print(\"File time \",readtime)\n",
    "finaltime = readtime + total_time\n",
    "print(\"Total time \",finaltime)\n",
    "\n",
    "\n",
    "'''\n",
    "f = open(\"C:\\\\Users\\\\jde35739\\\\Documents\\\\testdatafolder\\\\csvBLM.csv\", \"r\")\n",
    "reader = csv.reader(f)\n",
    "i = 0\n",
    "for line in reader:\n",
    "    voltage = (line)\n",
    "    #voltage = (line)\n",
    "    dataframe[i] = voltage\n",
    "    i += 1;\n",
    "f.close()\n",
    "\n",
    "print(dataframe)\n",
    "'''"
   ]
  },
  {
   "cell_type": "code",
   "execution_count": null,
   "id": "7b1dc558",
   "metadata": {},
   "outputs": [],
   "source": [
    "import numpy as np\n",
    "import glob\n",
    "\n",
    "'''\n",
    "files = glob.glob(\"BLM_R5IM_Data/cycle\" + '/*.csv')\n",
    "selected_file = files[0]\n",
    "input_data = pd.read_csv(selected_file)\n",
    "dataframe = input_data.drop(columns = input_data.columns[0]).to_numpy()\n",
    "\n",
    "\n",
    "file = open(\"data.csv\")\n",
    " \n",
    "for i in file:\n",
    "    print(i)\n",
    "'''\n",
    "\n",
    "\n",
    "files = glob.glob(\"C:\\\\Users\\\\jde35739\\\\Desktop\\\\data-handling-1e\\\\BLM_R5IM_Data\")\n",
    "selected_file = (files[0])\n",
    "array = np.loadtxt(selected_file, delimiter=',')\n",
    "print(array)\n",
    "selected_file.close()"
   ]
  },
  {
   "cell_type": "code",
   "execution_count": null,
   "id": "fea9ffee",
   "metadata": {},
   "outputs": [],
   "source": [
    "def loaddata(data):\n",
    "\n",
    "\n",
    "\n",
    "\n",
    "\n",
    "\n",
    "\n",
    "\n",
    "\n"
   ]
  },
  {
   "cell_type": "code",
   "execution_count": null,
   "id": "2447979e",
   "metadata": {},
   "outputs": [],
   "source": [
    "import polars\n",
    "import glob"
   ]
  },
  {
   "cell_type": "markdown",
   "id": "7b051979",
   "metadata": {},
   "source": [
    "Polars Reading speed testing\n"
   ]
  },
  {
   "cell_type": "code",
   "execution_count": null,
   "id": "0fa2ce64",
   "metadata": {},
   "outputs": [],
   "source": [
    "import polars as pl\n",
    "import numpy\n",
    "import time\n",
    "\n",
    "\n",
    "files = glob.glob(\"C:\\\\Users\\\\jde35739\\\\Desktop\\\\data-handling-1e\\\\BLM_R5IM_Data\\\\R5IM_loss//28_05_2023_23_02_08_858925.csv\")\n",
    "selected_file = (files[0])  \n",
    "\n",
    "start_time = time.time()\n",
    "\n",
    "df = pl.read_csv(selected_file)\n",
    "#print(df)\n",
    "print(df.to_numpy())\n",
    "\n",
    "\n",
    "end_time = time.time()\n",
    "total_time = (round(end_time - start_time, 11))\n",
    "print(\"Read Time \",total_time)"
   ]
  },
  {
   "cell_type": "markdown",
   "id": "70db273c",
   "metadata": {},
   "source": [
    "Date/time code for files."
   ]
  },
  {
   "cell_type": "code",
   "execution_count": null,
   "id": "020ecc1f",
   "metadata": {},
   "outputs": [],
   "source": []
  },
  {
   "cell_type": "markdown",
   "id": "750ae58c",
   "metadata": {},
   "source": []
  },
  {
   "cell_type": "code",
   "execution_count": null,
   "id": "3bab16c8",
   "metadata": {},
   "outputs": [],
   "source": []
  },
  {
   "cell_type": "markdown",
   "id": "e173ee2c",
   "metadata": {},
   "source": [
    "Here we need to create code to load and print different data structures"
   ]
  },
  {
   "cell_type": "code",
   "execution_count": null,
   "id": "2e6c9970",
   "metadata": {},
   "outputs": [],
   "source": []
  },
  {
   "cell_type": "markdown",
   "id": "1b9cbd5d",
   "metadata": {},
   "source": []
  },
  {
   "cell_type": "code",
   "execution_count": null,
   "id": "372a3907",
   "metadata": {},
   "outputs": [],
   "source": []
  }
 ],
 "metadata": {
  "kernelspec": {
   "display_name": "Python 3 (ipykernel)",
   "language": "python",
   "name": "python3"
  },
  "language_info": {
   "codemirror_mode": {
    "name": "ipython",
    "version": 3
   },
   "file_extension": ".py",
   "mimetype": "text/x-python",
   "name": "python",
   "nbconvert_exporter": "python",
   "pygments_lexer": "ipython3",
   "version": "3.10.9"
  }
 },
 "nbformat": 4,
 "nbformat_minor": 5
}
